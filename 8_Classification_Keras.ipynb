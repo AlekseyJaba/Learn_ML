{
 "cells": [
  {
   "cell_type": "markdown",
   "metadata": {
    "id": "zng1oTc6FGeT"
   },
   "source": [
    "# Классификация текстов в Keras\n",
    "\n",
    "---\n",
    "\n",
    "**ФИО:** Волгин Алексей Дмитриевич\n",
    "\n",
    "---\n",
    "\n",
    "\n",
    "Задание: создать модель для решения задачи классификации текста - определение тональности отзывов с использованием фреймворка Keras.\n",
    "\n",
    "В этой работе булем решать задачу определение тональности отзывов с использованием фреймворка Keras. В ноутбуке ниже приведен пример создания нейронной сети для классификаци\n",
    "и текстов на датасете, состоящим из отзывов на Tesla, бинарная лкассификация - 2 класса - позитивный отзыв и негативный отзыв. (Ссылка на датасет в примере https://drive.google.com/file/d/1PKL86ByMBl0M_rWjcjgoO29ojh9QmTU8/view?usp=sharing )\n",
    "\n",
    "В задании для самостоятельной разработки необходимо загрузить датасет и построить 2 архитектуры сети (с использованием слоев Conv1D и SimpleRNN), вывести результаты обучения."
   ]
  },
  {
   "cell_type": "code",
   "execution_count": 25,
   "metadata": {
    "id": "cH5G1PLRHiWQ"
   },
   "outputs": [],
   "source": [
    "import numpy as np\n",
    "import pandas as pd\n",
    "from tensorflow.keras import utils\n",
    "from tensorflow.keras.models import Sequential\n",
    "from tensorflow.keras.layers import *\n",
    "from tensorflow.keras.preprocessing.sequence import TimeseriesGenerator\n",
    "from sklearn.preprocessing import MinMaxScaler\n",
    "from tensorflow.keras.preprocessing.text import Tokenizer\n",
    "from sklearn.metrics import confusion_matrix, ConfusionMatrixDisplay\n",
    "import gdown\n",
    "import os\n",
    "import re\n",
    "\n",
    "import pickle\n",
    "import matplotlib.pyplot as plt\n",
    "%matplotlib inline"
   ]
  },
  {
   "cell_type": "markdown",
   "metadata": {
    "id": "XwaiauN5O7j6"
   },
   "source": [
    "####\n",
    "Создать нейронную сеть по распознаванию позитивных и негативных отзывы\n",
    "людей по автомобилю Tesla. (tesla.zip)."
   ]
  },
  {
   "cell_type": "code",
   "execution_count": 2,
   "metadata": {
    "colab": {
     "base_uri": "https://localhost:8080/",
     "height": 36
    },
    "id": "1MBu3g5jRXym",
    "outputId": "0e19a45a-b515-403c-9249-0f5d8067d7cf"
   },
   "outputs": [
    {
     "data": {
      "text/plain": [
       "'tesla.zip'"
      ]
     },
     "execution_count": 2,
     "metadata": {},
     "output_type": "execute_result"
    }
   ],
   "source": [
    "gdown.download('https://drive.google.com/uc?id=1PKL86ByMBl0M_rWjcjgoO29ojh9QmTU8', None, quiet=True)"
   ]
  },
  {
   "cell_type": "code",
   "execution_count": 4,
   "metadata": {
    "id": "OB4PTrlLP_Px"
   },
   "outputs": [],
   "source": [
    "import os"
   ]
  },
  {
   "cell_type": "code",
   "execution_count": 15,
   "metadata": {
    "id": "3JMxgU6mzgqB"
   },
   "outputs": [],
   "source": [
    "zip_path = '/content/tesla.zip'"
   ]
  },
  {
   "cell_type": "code",
   "execution_count": 16,
   "metadata": {
    "id": "YX_kUfu10GRw"
   },
   "outputs": [
    {
     "name": "stderr",
     "output_type": "stream",
     "text": [
      "UnZip 6.00 of 20 April 2009, by Info-ZIP.  Maintained by C. Spieler.  Send\n",
      "bug reports using http://www.info-zip.org/zip-bug.html; see README for details.\n",
      "\n",
      "Usage: unzip [-Z] [-opts[modifiers]] file[.zip] [list] [-x xlist] [-d exdir]\n",
      "  Default action is to extract files in list, except those in xlist, to exdir;\n",
      "  file[.zip] may be a wildcard.  -Z => ZipInfo mode (\"unzip -Z\" for usage).\n",
      "\n",
      "  -p  extract files to pipe, no messages     -l  list files (short format)\n",
      "  -f  freshen existing files, create none    -t  test compressed archive data\n",
      "  -u  update files, create if necessary      -z  display archive comment only\n",
      "  -v  list verbosely/show version info       -T  timestamp archive to latest\n",
      "  -x  exclude files that follow (in xlist)   -d  extract files into exdir\n",
      "modifiers:\n",
      "  -n  never overwrite existing files         -q  quiet mode (-qq => quieter)\n",
      "  -o  overwrite files WITHOUT prompting      -a  auto-convert any text files\n",
      "  -j  junk paths (do not make directories)   -aa treat ALL files as text\n",
      "  -U  use escapes for all non-ASCII Unicode  -UU ignore any Unicode fields\n",
      "  -C  match filenames case-insensitively     -L  make (some) names lowercase\n",
      "  -X  restore UID/GID info                   -V  retain VMS version numbers\n",
      "  -K  keep setuid/setgid/tacky permissions   -M  pipe through \"more\" pager\n",
      "See \"unzip -hh\" or unzip.txt for more help.  Examples:\n",
      "  unzip data1 -x joe   => extract all files except joe from zipfile data1.zip\n",
      "  unzip -p foo | more  => send contents of foo.zip via pipe into program more\n",
      "  unzip -fo foo ReadMe => quietly replace existing ReadMe if archive file newer\n"
     ]
    }
   ],
   "source": [
    "!unzip -qo -O UTF-8 tesla.zip -d tesla/"
   ]
  },
  {
   "cell_type": "code",
   "execution_count": 28,
   "metadata": {
    "colab": {
     "base_uri": "https://localhost:8080/"
    },
    "id": "UtqU9TIlFAeE",
    "outputId": "40ad9a6f-7736-4960-85ac-0966c177ab43"
   },
   "outputs": [
    {
     "name": "stdout",
     "output_type": "stream",
     "text": [
      "/content/tesla/Негативный отзыв.txt\n",
      "Негативный отзыв.txt добавлен в обучающую выборку\n",
      "/content/tesla/Негативный отзыв.txt\n",
      "Позитивный отзыв.txt добавлен в обучающую выборку\n"
     ]
    }
   ],
   "source": [
    "# функции для чтения файла\n",
    "def read_text(file_name):\n",
    "  read_file = open(file_name, 'r', encoding='utf-8')\n",
    "  text = read_file.read()\n",
    "  return text.replace(\"\\n\", \" \")\n",
    "\n",
    "\n",
    "class_names = [\"positive\", \"negative\"] # создаем 2 класса позитивных и негативных отзывов\n",
    "num_classes = len(class_names)\n",
    "\n",
    "texts_list = []\n",
    "\n",
    "for i in os.listdir('./content/tesla/'):\n",
    "    print(path)\n",
    "    texts_list.append(read_text('./content/tesla/'+i))\n",
    "    print(i, 'добавлен в обучающую выборку')\n",
    "\n",
    "\n",
    "texts_len = [len(text) for text in texts_list]"
   ]
  },
  {
   "cell_type": "markdown",
   "metadata": {
    "id": "fnkfIpjl-mcl"
   },
   "source": [
    "**Форимирование обучающего и тестового набора**"
   ]
  },
  {
   "cell_type": "code",
   "execution_count": 29,
   "metadata": {
    "colab": {
     "base_uri": "https://localhost:8080/"
    },
    "id": "WUqBxWrEQR_P",
    "outputId": "2ac7d458-442f-4d91-d4c6-50bf9769e265"
   },
   "outputs": [
    {
     "name": "stdout",
     "output_type": "stream",
     "text": [
      "Доля 80% от текста №1: 107628 токенов\n",
      "Доля 80% от текста №2: 170705 токенов\n"
     ]
    }
   ],
   "source": [
    "# раздедение на тестовую и обучающую выборки\n",
    "train_len_shares = [(i - round(i/5)) for i in texts_len]\n",
    "t_num = 0\n",
    "for train_len_share in train_len_shares:\n",
    "    t_num += 1\n",
    "    print(f'Доля 80% от текста №{t_num}: {train_len_share} токенов')"
   ]
  },
  {
   "cell_type": "code",
   "execution_count": 30,
   "metadata": {
    "id": "GAOoDmIqQcGp"
   },
   "outputs": [],
   "source": [
    "from itertools import chain # импортируем функцию для добавления текстов в ыборки\n",
    "\n",
    "train_data = []\n",
    "test_data = []\n",
    "\n",
    "for i in range(len(texts_list)):\n",
    "    train_len = int(len(texts_list[i]) * 0.8)\n",
    "\n",
    "    # Добавим тексты в выборки функцией chain()\n",
    "    train_data = list(chain(train_data, ([texts_list[i][:train_len]])))\n",
    "    test_data = list(chain(test_data, ([texts_list[i][train_len:]])))"
   ]
  },
  {
   "cell_type": "code",
   "execution_count": 31,
   "metadata": {
    "id": "OdL46HnbQmFv"
   },
   "outputs": [],
   "source": [
    "# Задание параметров преобразования\n",
    "VOCAB_SIZE = 5000                        # Объем словаря для токенизатора\n",
    "WIN_SIZE = 500                         # Длина отрезка текста (окна) в словах\n",
    "WIN_HOP = 100                          # Шаг окна разбиения текста на векторы"
   ]
  },
  {
   "cell_type": "markdown",
   "metadata": {
    "id": "vVzB9O07-5Av"
   },
   "source": [
    "** Создание токенайзера**"
   ]
  },
  {
   "cell_type": "code",
   "execution_count": 32,
   "metadata": {
    "id": "JcOESg--Q9Dj"
   },
   "outputs": [],
   "source": [
    "# Создание токенайзера\n",
    "tokenizer = Tokenizer(\n",
    "    num_words=VOCAB_SIZE,\n",
    "    filters='!\"#$%&()*+,-–—./…:;<=>?@[\\\\]^_`{|}~«»\\t\\n\\xa0\\ufeff',\n",
    "    lower=True,\n",
    "    split=' ',\n",
    "    oov_token='неизвестное_слово',\n",
    "    char_level=False\n",
    ")\n",
    "# Обучение токенайзера\n",
    "\n",
    "tokenizer.fit_on_texts(train_data)\n",
    "items = list(tokenizer.word_index.items())"
   ]
  },
  {
   "cell_type": "code",
   "execution_count": 33,
   "metadata": {
    "colab": {
     "base_uri": "https://localhost:8080/"
    },
    "id": "otan3nG7Q81w",
    "outputId": "477d0e43-4cbc-476b-e4ad-5c68e5c98554"
   },
   "outputs": [
    {
     "name": "stdout",
     "output_type": "stream",
     "text": [
      "[('неизвестное_слово', 1), ('и', 2), ('в', 3), ('не', 4), ('на', 5), ('это', 6), ('что', 7), ('с', 8), ('тесла', 9), ('за', 10)]\n",
      "Размер словаря 10336\n"
     ]
    }
   ],
   "source": [
    "# Вывод нескольких наиболее часто встречающихся слов\n",
    "print(items[:10])\n",
    "print(\"Размер словаря\", len(items))"
   ]
  },
  {
   "cell_type": "code",
   "execution_count": 34,
   "metadata": {
    "id": "BVW3zu35SCy2"
   },
   "outputs": [],
   "source": [
    "# Преобразование  в последовательность\n",
    "seq_train = tokenizer.texts_to_sequences(train_data)\n",
    "seq_test = tokenizer.texts_to_sequences(test_data)"
   ]
  },
  {
   "cell_type": "code",
   "execution_count": 35,
   "metadata": {
    "id": "hcvZn6HzRmtU"
   },
   "outputs": [],
   "source": [
    "# Функция разбиения последовательности на отрезки скользящим окном\n",
    "def split_sequence(sequence, win_size, hop):\n",
    "    return [sequence[i:i + win_size] for i in range(0, len(sequence) - win_size + 1, hop)]\n",
    "\n",
    "# Функция формирования выборок из последовательностей индексов\n",
    "def vectorize_sequence(seq_list, win_size, hop):\n",
    "    class_count = len(seq_list)\n",
    "    x, y = [], []\n",
    "    for cls in range(class_count):\n",
    "        vectors = split_sequence(seq_list[cls], win_size, hop)\n",
    "        x += vectors\n",
    "        y += [utils.to_categorical(cls, class_count)] * len(vectors)\n",
    "    return np.array(x), np.array(y)"
   ]
  },
  {
   "cell_type": "code",
   "execution_count": 36,
   "metadata": {
    "colab": {
     "base_uri": "https://localhost:8080/"
    },
    "id": "BXV_4B1VR8JT",
    "outputId": "31ac3aa4-83a1-4cf4-917e-4001eb37778c"
   },
   "outputs": [
    {
     "name": "stdout",
     "output_type": "stream",
     "text": [
      "(418, 500) (418, 2)\n",
      "(100, 500) (100, 2)\n"
     ]
    }
   ],
   "source": [
    "#  формирования обучающуся  и тесстовой выборок\n",
    "x_train, y_train = vectorize_sequence(seq_train, WIN_SIZE, WIN_HOP)\n",
    "x_test, y_test = vectorize_sequence(seq_test, WIN_SIZE, WIN_HOP)\n",
    "\n",
    "print(x_train.shape, y_train.shape)\n",
    "print(x_test.shape, y_test.shape)"
   ]
  },
  {
   "cell_type": "markdown",
   "metadata": {
    "id": "MX2bP_JW_DMi"
   },
   "source": [
    "**Векторизация текста**\n",
    "\n",
    "Преобразование в Bag of Words"
   ]
  },
  {
   "cell_type": "code",
   "execution_count": 37,
   "metadata": {
    "id": "ZYDrKg9UWLUe"
   },
   "outputs": [],
   "source": [
    "# Формирование выборок текстов в виде разреженных матриц (bag of words\n",
    "# На входе .sequences_to_matrix() подается список, метод .tolist() выполняет преобразование типа\n",
    "\n",
    "x_train_01 = tokenizer.sequences_to_matrix(x_train.tolist())\n",
    "x_test_01 = tokenizer.sequences_to_matrix(x_test.tolist())"
   ]
  },
  {
   "cell_type": "code",
   "execution_count": 38,
   "metadata": {
    "colab": {
     "base_uri": "https://localhost:8080/"
    },
    "id": "Cwyp_e__WPo3",
    "outputId": "f4973e07-e866-4d20-d436-e09c1a0b4009"
   },
   "outputs": [
    {
     "name": "stdout",
     "output_type": "stream",
     "text": [
      "(418, 5000)\n",
      "[0. 0. 1. 1. 1. 1. 1. 1. 1. 1. 1. 1. 1. 1. 0. 1. 1. 0. 0. 1. 1. 1. 0. 1.\n",
      " 0. 0. 1. 1. 0. 1. 1. 1. 0. 1. 1. 1. 0. 1. 0. 0. 1. 1. 1. 1. 1. 1. 1. 1.\n",
      " 0. 1. 1. 1. 1. 0. 1. 1. 0. 1. 1. 1. 0. 0. 1. 0. 0. 1. 0. 0. 0. 1. 1. 1.\n",
      " 0. 1. 0. 0. 1. 0. 0. 1. 1. 0. 1. 1. 0. 0. 0. 1. 0. 1. 1. 1. 0. 1. 1. 0.\n",
      " 0. 0. 1. 1.]\n"
     ]
    }
   ],
   "source": [
    "# вывод размерности преобразованной в  bag of words обучающей выборки и 1 примера (первые 100 элементов)\n",
    "print(x_train_01.shape)\n",
    "print(x_train_01[0][0:100])"
   ]
  },
  {
   "cell_type": "code",
   "execution_count": 39,
   "metadata": {
    "colab": {
     "base_uri": "https://localhost:8080/"
    },
    "id": "sXDObt2kWeFA",
    "outputId": "b791ffaa-913d-4241-8dd8-bdc38d691114"
   },
   "outputs": [
    {
     "data": {
      "text/plain": [
       "(100, 5000)"
      ]
     },
     "execution_count": 39,
     "metadata": {},
     "output_type": "execute_result"
    }
   ],
   "source": [
    "# вывод размерности преобразованной в  bag of words тестовой выборки\n",
    "x_test_01.shape"
   ]
  },
  {
   "cell_type": "markdown",
   "metadata": {
    "id": "oWLDXGzQ_Wr9"
   },
   "source": [
    "**Создание и обучение модели**"
   ]
  },
  {
   "cell_type": "code",
   "execution_count": 40,
   "metadata": {
    "colab": {
     "base_uri": "https://localhost:8080/"
    },
    "id": "WQ0PflzoR7uO",
    "outputId": "f2194a54-9323-4dc4-baa4-7a52938e1296"
   },
   "outputs": [
    {
     "name": "stderr",
     "output_type": "stream",
     "text": [
      "C:\\Users\\aleks\\AppData\\Local\\Programs\\Python\\Python312\\Lib\\site-packages\\keras\\src\\layers\\core\\dense.py:87: UserWarning: Do not pass an `input_shape`/`input_dim` argument to a layer. When using Sequential models, prefer using an `Input(shape)` object as the first layer in the model instead.\n",
      "  super().__init__(activity_regularizer=activity_regularizer, **kwargs)\n"
     ]
    },
    {
     "name": "stdout",
     "output_type": "stream",
     "text": [
      "Epoch 1/10\n",
      "\u001b[1m12/12\u001b[0m \u001b[32m━━━━━━━━━━━━━━━━━━━━\u001b[0m\u001b[37m\u001b[0m \u001b[1m1s\u001b[0m 23ms/step - accuracy: 0.7415 - loss: 0.4812 - val_accuracy: 0.8571 - val_loss: 0.3013\n",
      "Epoch 2/10\n",
      "\u001b[1m12/12\u001b[0m \u001b[32m━━━━━━━━━━━━━━━━━━━━\u001b[0m\u001b[37m\u001b[0m \u001b[1m0s\u001b[0m 7ms/step - accuracy: 1.0000 - loss: 0.0048 - val_accuracy: 1.0000 - val_loss: 0.0574\n",
      "Epoch 3/10\n",
      "\u001b[1m12/12\u001b[0m \u001b[32m━━━━━━━━━━━━━━━━━━━━\u001b[0m\u001b[37m\u001b[0m \u001b[1m0s\u001b[0m 7ms/step - accuracy: 1.0000 - loss: 8.0662e-05 - val_accuracy: 1.0000 - val_loss: 0.0251\n",
      "Epoch 4/10\n",
      "\u001b[1m12/12\u001b[0m \u001b[32m━━━━━━━━━━━━━━━━━━━━\u001b[0m\u001b[37m\u001b[0m \u001b[1m0s\u001b[0m 6ms/step - accuracy: 1.0000 - loss: 2.4988e-05 - val_accuracy: 1.0000 - val_loss: 0.0193\n",
      "Epoch 5/10\n",
      "\u001b[1m12/12\u001b[0m \u001b[32m━━━━━━━━━━━━━━━━━━━━\u001b[0m\u001b[37m\u001b[0m \u001b[1m0s\u001b[0m 7ms/step - accuracy: 1.0000 - loss: 1.3566e-05 - val_accuracy: 1.0000 - val_loss: 0.0180\n",
      "Epoch 6/10\n",
      "\u001b[1m12/12\u001b[0m \u001b[32m━━━━━━━━━━━━━━━━━━━━\u001b[0m\u001b[37m\u001b[0m \u001b[1m0s\u001b[0m 8ms/step - accuracy: 1.0000 - loss: 1.2430e-05 - val_accuracy: 1.0000 - val_loss: 0.0181\n",
      "Epoch 7/10\n",
      "\u001b[1m12/12\u001b[0m \u001b[32m━━━━━━━━━━━━━━━━━━━━\u001b[0m\u001b[37m\u001b[0m \u001b[1m0s\u001b[0m 6ms/step - accuracy: 1.0000 - loss: 1.2529e-05 - val_accuracy: 1.0000 - val_loss: 0.0185\n",
      "Epoch 8/10\n",
      "\u001b[1m12/12\u001b[0m \u001b[32m━━━━━━━━━━━━━━━━━━━━\u001b[0m\u001b[37m\u001b[0m \u001b[1m0s\u001b[0m 7ms/step - accuracy: 1.0000 - loss: 1.1505e-05 - val_accuracy: 1.0000 - val_loss: 0.0190\n",
      "Epoch 9/10\n",
      "\u001b[1m12/12\u001b[0m \u001b[32m━━━━━━━━━━━━━━━━━━━━\u001b[0m\u001b[37m\u001b[0m \u001b[1m0s\u001b[0m 6ms/step - accuracy: 1.0000 - loss: 1.0917e-05 - val_accuracy: 1.0000 - val_loss: 0.0196\n",
      "Epoch 10/10\n",
      "\u001b[1m12/12\u001b[0m \u001b[32m━━━━━━━━━━━━━━━━━━━━\u001b[0m\u001b[37m\u001b[0m \u001b[1m0s\u001b[0m 7ms/step - accuracy: 1.0000 - loss: 1.2786e-05 - val_accuracy: 1.0000 - val_loss: 0.0202\n"
     ]
    }
   ],
   "source": [
    "# создание и обучение модели\n",
    "model = Sequential([\n",
    "    Dense(128, input_shape=x_test_01.shape[1:], activation='relu'),\n",
    "    Dense(64, activation='relu'),\n",
    "    Dense(y_test.shape[1], activation='softmax')\n",
    "])\n",
    "\n",
    "model.compile(optimizer='adam', loss='binary_crossentropy', metrics=['accuracy'])\n",
    "model_history = model.fit(x_train_01, y_train, epochs=10, validation_split=0.1)"
   ]
  },
  {
   "cell_type": "markdown",
   "metadata": {
    "id": "ikf0iOhT_bJ1"
   },
   "source": [
    "**Оценка модели на тестовой выборке**"
   ]
  },
  {
   "cell_type": "code",
   "execution_count": 41,
   "metadata": {
    "colab": {
     "base_uri": "https://localhost:8080/"
    },
    "id": "NRDGYqgSTZu8",
    "outputId": "dadef4ad-0e30-4be8-e654-346eb5a2b004"
   },
   "outputs": [
    {
     "name": "stdout",
     "output_type": "stream",
     "text": [
      "\u001b[1m4/4\u001b[0m \u001b[32m━━━━━━━━━━━━━━━━━━━━\u001b[0m\u001b[37m\u001b[0m \u001b[1m0s\u001b[0m 15ms/step\n"
     ]
    }
   ],
   "source": [
    "y_pred = model.predict(x_test_01)"
   ]
  },
  {
   "cell_type": "markdown",
   "metadata": {
    "id": "dvo-nl5h_ggB"
   },
   "source": [
    "**Вывод матрицы ошибок**"
   ]
  },
  {
   "cell_type": "code",
   "execution_count": 42,
   "metadata": {
    "colab": {
     "base_uri": "https://localhost:8080/",
     "height": 796
    },
    "id": "oS0hO1_sTgHP",
    "outputId": "e1865fa3-5fb3-4f5d-ba6d-21532727c7a7"
   },
   "outputs": [
    {
     "data": {
      "image/png": "[encoded data removed]",
      "text/plain": [
       "<Figure size 1000x1000 with 1 Axes>"
      ]
     },
     "metadata": {},
     "output_type": "display_data"
    }
   ],
   "source": [
    "cm = confusion_matrix(np.argmax(y_test, axis=1),\n",
    "                          np.argmax(y_pred, axis=1),\n",
    "                          normalize='true')\n",
    "# Округление значений матрицы ошибок\n",
    "cm = np.around(cm, 3)\n",
    "\n",
    "# Отрисовка матрицы ошибок\n",
    "fig, ax = plt.subplots(figsize=(10, 10))\n",
    "ax.set_title(f'Нейросеть: матрица ошибок нормализованная', fontsize=18)\n",
    "disp = ConfusionMatrixDisplay(confusion_matrix=cm, display_labels=[0, 1])\n",
    "disp.plot(ax=ax)\n",
    "plt.gca().images[-1].colorbar.remove()  # Стирание ненужной цветовой шкалы\n",
    "plt.xlabel('Предсказанные классы', fontsize=16)\n",
    "plt.ylabel('Верные классы', fontsize=16)\n",
    "fig.autofmt_xdate(rotation=45)          # Наклон меток горизонтальной оси при необходимости\n",
    "plt.show()"
   ]
  },
  {
   "cell_type": "markdown",
   "metadata": {
    "id": "fSe9Dg40O9D4"
   },
   "source": [
    "####\n",
    "**Создаybt архитектуры сети с исользование слоя Embedding**"
   ]
  },
  {
   "cell_type": "code",
   "execution_count": 43,
   "metadata": {
    "colab": {
     "base_uri": "https://localhost:8080/"
    },
    "id": "EG3lsuYZZu1F",
    "outputId": "42e06e86-fb04-42b5-c1b9-de4e6cd97da2"
   },
   "outputs": [
    {
     "name": "stdout",
     "output_type": "stream",
     "text": [
      "Epoch 1/5\n"
     ]
    },
    {
     "name": "stderr",
     "output_type": "stream",
     "text": [
      "C:\\Users\\aleks\\AppData\\Local\\Programs\\Python\\Python312\\Lib\\site-packages\\keras\\src\\layers\\core\\embedding.py:90: UserWarning: Argument `input_length` is deprecated. Just remove it.\n",
      "  warnings.warn(\n"
     ]
    },
    {
     "name": "stdout",
     "output_type": "stream",
     "text": [
      "\u001b[1m12/12\u001b[0m \u001b[32m━━━━━━━━━━━━━━━━━━━━\u001b[0m\u001b[37m\u001b[0m \u001b[1m3s\u001b[0m 102ms/step - accuracy: 0.5820 - loss: 0.6706 - val_accuracy: 1.0000 - val_loss: 0.5457\n",
      "Epoch 2/5\n",
      "\u001b[1m12/12\u001b[0m \u001b[32m━━━━━━━━━━━━━━━━━━━━\u001b[0m\u001b[37m\u001b[0m \u001b[1m1s\u001b[0m 75ms/step - accuracy: 0.9653 - loss: 0.4861 - val_accuracy: 1.0000 - val_loss: 0.5104\n",
      "Epoch 3/5\n",
      "\u001b[1m12/12\u001b[0m \u001b[32m━━━━━━━━━━━━━━━━━━━━\u001b[0m\u001b[37m\u001b[0m \u001b[1m1s\u001b[0m 76ms/step - accuracy: 1.0000 - loss: 0.1895 - val_accuracy: 1.0000 - val_loss: 0.3996\n",
      "Epoch 4/5\n",
      "\u001b[1m12/12\u001b[0m \u001b[32m━━━━━━━━━━━━━━━━━━━━\u001b[0m\u001b[37m\u001b[0m \u001b[1m1s\u001b[0m 77ms/step - accuracy: 1.0000 - loss: 0.0320 - val_accuracy: 1.0000 - val_loss: 0.2203\n",
      "Epoch 5/5\n",
      "\u001b[1m12/12\u001b[0m \u001b[32m━━━━━━━━━━━━━━━━━━━━\u001b[0m\u001b[37m\u001b[0m \u001b[1m1s\u001b[0m 78ms/step - accuracy: 1.0000 - loss: 0.0047 - val_accuracy: 1.0000 - val_loss: 0.1372\n"
     ]
    }
   ],
   "source": [
    "model_2 = Sequential([\n",
    "    Embedding(VOCAB_SIZE, 200, input_length=500),\n",
    "    Conv1D(200, 5, padding='valid', activation='relu'),\n",
    "    GlobalMaxPooling1D(),\n",
    "    Dense(200, activation='relu'),\n",
    "    Dropout(0.2),\n",
    "    Dense(len(class_names), activation='sigmoid')\n",
    "])\n",
    "model_2.compile(optimizer='adam', loss='binary_crossentropy', metrics=['accuracy'])\n",
    "model_2_history = model_2.fit(x_train, y_train, epochs=5, validation_split=0.1)"
   ]
  },
  {
   "cell_type": "code",
   "execution_count": 44,
   "metadata": {
    "colab": {
     "base_uri": "https://localhost:8080/",
     "height": 831
    },
    "id": "pRVaUIv6ZuvW",
    "outputId": "c53464f2-97e7-4c85-e447-18295c1e34a0"
   },
   "outputs": [
    {
     "name": "stdout",
     "output_type": "stream",
     "text": [
      "\u001b[1m4/4\u001b[0m \u001b[32m━━━━━━━━━━━━━━━━━━━━\u001b[0m\u001b[37m\u001b[0m \u001b[1m0s\u001b[0m 36ms/step\n"
     ]
    },
    {
     "data": {
      "image/png": "[encoded data removed]",
      "text/plain": [
       "<Figure size 1000x1000 with 1 Axes>"
      ]
     },
     "metadata": {},
     "output_type": "display_data"
    },
    {
     "data": {
      "text/plain": [
       "0.5515"
      ]
     },
     "execution_count": 44,
     "metadata": {},
     "output_type": "execute_result"
    }
   ],
   "source": [
    "y_pred = model_2.predict(x_test)\n",
    "\n",
    "cm = confusion_matrix(np.argmax(y_test, axis=1),\n",
    "                          np.argmax(y_pred, axis=1),\n",
    "                          normalize='true')\n",
    "# Округление значений матрицы ошибок\n",
    "cm = np.around(cm, 3)\n",
    "\n",
    "# Отрисовка матрицы ошибок\n",
    "fig, ax = plt.subplots(figsize=(10, 10))\n",
    "ax.set_title(f'Нейросеть: матрица ошибок нормализованная', fontsize=18)\n",
    "disp = ConfusionMatrixDisplay(confusion_matrix=cm, display_labels=[0, 1])\n",
    "disp.plot(ax=ax)\n",
    "plt.gca().images[-1].colorbar.remove()  # Стирание ненужной цветовой шкалы\n",
    "plt.xlabel('Предсказанные классы', fontsize=16)\n",
    "plt.ylabel('Верные классы', fontsize=16)\n",
    "fig.autofmt_xdate(rotation=45)          # Наклон меток горизонтальной оси при необходимости\n",
    "plt.show()\n",
    "\n",
    "cm.diagonal().mean()"
   ]
  },
  {
   "cell_type": "markdown",
   "metadata": {
    "id": "dSWXPa3WPAMQ"
   },
   "source": [
    "#### Задание\n",
    "1. Для загруженного датачета отзывов создайте 2 архитектуры сети с использованием слоев Conv1D и SimpleRNN с использованием векторизации Bag of Words и Embedding.\n",
    "2. Обучите сеть, добейтесь результата точности сети не менее 90% на проверочной выборке модели с использованием векторизации Bag of Words и 80% - для модели Embedding.\n",
    "3. Выведите архитектуры сетей.\n",
    "\n",
    "4. Выведите результаты и постройте матрицу ошибок."
   ]
  },
  {
   "cell_type": "markdown",
   "metadata": {
    "id": "zkKUmzajID_N"
   },
   "source": [
    "## Контрольные вопросы\n",
    "\n",
    "**Опишите для чего нужен и как работает tokenizer**\n",
    "\n",
    "Ваш ответ: Tokenizer - это важный компонент в задачах обработки естественного языка (NLP), его основная функция заключается в преобразовании текста в числовую форму, понятную для нейронных сетей.\n",
    "\n",
    "Tokenizer работает следующим образом:\n",
    "\n",
    "1. Разбиение текста на токены: Tokenizer разбивает входной текст на отдельные \"токены\" - единицы текста, такие как слова, символы пунктуации, числа и т.д. Это можно сделать, используя различные методы разделения, например, по пробелам, знакам препинания и т.д.\n",
    "\n",
    "2. Создание словаря: Tokenizer создает словарь, в котором каждому уникальному токену присваивается уникальный числовой индекс (ID). Этот словарь используется для преобразования текста в последовательность числовых индексов.\n",
    "\n",
    "3. Преобразование текста в последовательность индексов: После создания словаря, tokenizer преобразует входной текст в последовательность числовых индексов, соответствующих токенам в тексте.\n",
    "\n",
    "4. Pad and truncate: Tokenizer может также выполнять pad and truncate - это процесс выравнивания последовательностей до фиксированной длины, необходимой для работы нейронной сети.\n",
    "\n",
    "**Опишите параметры tokenizer**\n",
    "\n",
    "Ваш ответ:\n",
    "1. Vocabulary Size (Размер словаря): Определяет, сколько уникальных токенов будет включено в словарь. Это важный параметр, так как он влияет на размер входных данных для нейронной сети.\n",
    "\n",
    "2. Padding/Truncation Strategy (Стратегия заполнения/усечения): Определяет, как tokenizer будет обрабатывать последовательности разной длины. Это может быть \"pre\" (добавление/удаление токенов в начало) или \"post\" (добавление/удаление токенов в конец) последовательности.\n",
    "\n",
    "3. Padding Value (Значение заполнения): Определяет, каким значением будут заполняться последовательности до фиксированной длины. Обычно это 0.\n",
    "\n",
    "4. OOV Token (Токен для слов вне словаря): Определяет, какой токен будет использоваться для слов, которых нет в словаре. Это позволяет обрабатывать ранее незнакомые слова.\n",
    "\n",
    "5. Lowercase (Приведение к нижнему регистру): Определяет, следует ли приводить все слова к нижнему регистру перед tokenизацией.\n",
    "\n",
    "6. Maximal Length (Максимальная длина): Определяет максимальную длину последовательности, которую tokenizer будет обрабатывать. Более длинные последовательности будут усечены.\n",
    "\n",
    "**Объясните концепцию векторизации Bag of Words.**\n",
    "\n",
    "Ваш ответ: Концепция Bag of Words (BoW) - это один из способов векторизации текстовых данных, который преобразует текст в числовой вектор, понятный для алгоритмов машинного обучения.\n",
    "\n",
    "Идея Bag of Words заключается в следующем:\n",
    "\n",
    "1. Создание словаря: Из всего корпуса текстов собирается словарь, содержащий все уникальные слова (токены).\n",
    "\n",
    "2. Создание векторов: Для каждого текстового документа создается вектор, длина которого равна размеру словаря. Каждый элемент вектора соответствует одному слову из словаря и содержит количество (частоту) появления этого слова в данном документе.\n",
    "\n",
    "**Опишите слой Embedding и его параметры**\n",
    "\n",
    "Ваш ответ: Слой Embedding:\n",
    "- Преобразует каждое слово (представленное как индекс в словаре) в плотное числовое представление (вектор).\n",
    "- Это одна из ключевых операций в обработке естественного языка с использованием нейронных сетей.\n",
    "\n",
    "Параметры слоя Embedding:\n",
    "1. VOCAB_SIZE - размер словаря, то есть количество уникальных слов в наборе данных. Это определяет размерность входного слоя.\n",
    "2. 200 - размерность вектора эмбеддинга, то есть количество признаков, которые будут использоваться для представления каждого слова. Это гиперпараметр, который нужно подбирать в зависимости от задачи.\n",
    "3. input_length=500 - максимальная длина входной последовательности слов. Это необходимо для правильного формирования входных данных.\n",
    "\n"
   ]
  }
 ],
 "metadata": {
  "colab": {
   "provenance": []
  },
  "kernelspec": {
   "display_name": "Python 3 (ipykernel)",
   "language": "python",
   "name": "python3"
  },
  "language_info": {
   "codemirror_mode": {
    "name": "ipython",
    "version": 3
   },
   "file_extension": ".py",
   "mimetype": "text/x-python",
   "name": "python",
   "nbconvert_exporter": "python",
   "pygments_lexer": "ipython3",
   "version": "3.12.0"
  }
 },
 "nbformat": 4,
 "nbformat_minor": 4
}
