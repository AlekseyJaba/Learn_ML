{
 "cells": [
  {
   "cell_type": "markdown",
   "metadata": {
    "id": "HZvz0gdW76W5"
   },
   "source": [
    "# Многослойный перцептрон\n",
    "\n",
    "## Лабораторная работа №4"
   ]
  },
  {
   "cell_type": "markdown",
   "metadata": {
    "id": "T2Pz-P4zD5sC"
   },
   "source": [
    "Присвойте строку с вашим ФИО переменной `name` и выполните ячейку. В ее выводе будет указан номер вашего варианта."
   ]
  },
  {
   "cell_type": "code",
   "execution_count": 1,
   "metadata": {
    "id": "dhoU_CP8DZvg"
   },
   "outputs": [
    {
     "name": "stdout",
     "output_type": "stream",
     "text": [
      "Ваш вариант - №2\n"
     ]
    }
   ],
   "source": [
    "name = \"Volgin Aleksey Dmitrievich\" # Впишите ваше ФИО\n",
    "\n",
    "def calculate_variant(name):\n",
    "    return sum(ord(char) for char in name) % 2 + 1\n",
    "\n",
    "print(f\"Ваш вариант - №{calculate_variant(name)}\")"
   ]
  },
  {
   "cell_type": "markdown",
   "metadata": {
    "id": "gAFVgWfvA9cu"
   },
   "source": [
    "\n",
    "---\n",
    "\n",
    "**Впишите в эту ячейку ваши ФИО, группу и вариант**.\n",
    "\n",
    "ФИО: Волгин Алексей Дмитриевич\n",
    "\n",
    "Группа:211-324\n",
    "\n",
    "Вариант:2\n",
    "\n",
    "---\n",
    "\n",
    "Далее по ходу ноутбука вам встрется ячейки с кодом, в которых будут комментарии с заданиями, и текстовые ячейки как эта с вопросами, на которые вам необходимо письменно в ноутбуке ответить.\n",
    "\n",
    "Все ячейки необходимо запускать.\n",
    "\n",
    "Данные для вариантов лежат по ссылкам:\n",
    "\n",
    "1. http://labcolor.space/mlp-1.csv\n",
    "1. http://labcolor.space/mlp-2.csv\n",
    "\n",
    "Скопируйте ссылку для своего варианта."
   ]
  },
  {
   "cell_type": "markdown",
   "metadata": {
    "id": "hb7oukvg176R"
   },
   "source": [
    "## Импорт модулей"
   ]
  },
  {
   "cell_type": "code",
   "execution_count": 2,
   "metadata": {
    "id": "HLUv2a5i1_Qv"
   },
   "outputs": [],
   "source": [
    "import numpy as np\n",
    "import matplotlib.pyplot as plt\n",
    "import pandas as pd"
   ]
  },
  {
   "cell_type": "markdown",
   "metadata": {
    "id": "_PqyV8DO08ZR"
   },
   "source": [
    "## Загрузка данных\n",
    "\n",
    "Используя уже знакомые вам функции, загрузите данные и проведите их анализ на предмет количества признаков, объектов и классов. В данных последний столбец это целевой признак, а первая строка — это порядковый номер признака начиная с 0."
   ]
  },
  {
   "cell_type": "code",
   "execution_count": 3,
   "metadata": {
    "id": "OXvZhd9U1S8y"
   },
   "outputs": [
    {
     "data": {
      "text/html": [
       "<div>\n",
       "<style scoped>\n",
       "    .dataframe tbody tr th:only-of-type {\n",
       "        vertical-align: middle;\n",
       "    }\n",
       "\n",
       "    .dataframe tbody tr th {\n",
       "        vertical-align: top;\n",
       "    }\n",
       "\n",
       "    .dataframe thead th {\n",
       "        text-align: right;\n",
       "    }\n",
       "</style>\n",
       "<table border=\"1\" class=\"dataframe\">\n",
       "  <thead>\n",
       "    <tr style=\"text-align: right;\">\n",
       "      <th></th>\n",
       "      <th>0</th>\n",
       "      <th>1</th>\n",
       "      <th>2</th>\n",
       "      <th>3</th>\n",
       "      <th>4</th>\n",
       "      <th>5</th>\n",
       "      <th>6</th>\n",
       "      <th>7</th>\n",
       "      <th>8</th>\n",
       "      <th>9</th>\n",
       "      <th>...</th>\n",
       "      <th>91</th>\n",
       "      <th>92</th>\n",
       "      <th>93</th>\n",
       "      <th>94</th>\n",
       "      <th>95</th>\n",
       "      <th>96</th>\n",
       "      <th>97</th>\n",
       "      <th>98</th>\n",
       "      <th>99</th>\n",
       "      <th>100</th>\n",
       "    </tr>\n",
       "  </thead>\n",
       "  <tbody>\n",
       "    <tr>\n",
       "      <th>count</th>\n",
       "      <td>3999.000000</td>\n",
       "      <td>3999.000000</td>\n",
       "      <td>4000.000000</td>\n",
       "      <td>4000.000000</td>\n",
       "      <td>4000.000000</td>\n",
       "      <td>3999.000000</td>\n",
       "      <td>3999.000000</td>\n",
       "      <td>4000.000000</td>\n",
       "      <td>3999.000000</td>\n",
       "      <td>4000.000000</td>\n",
       "      <td>...</td>\n",
       "      <td>3999.000000</td>\n",
       "      <td>4000.000000</td>\n",
       "      <td>4000.000000</td>\n",
       "      <td>4000.000000</td>\n",
       "      <td>4000.000000</td>\n",
       "      <td>4000.000000</td>\n",
       "      <td>4000.000000</td>\n",
       "      <td>3999.000000</td>\n",
       "      <td>4000.000000</td>\n",
       "      <td>4000.000000</td>\n",
       "    </tr>\n",
       "    <tr>\n",
       "      <th>mean</th>\n",
       "      <td>0.024746</td>\n",
       "      <td>0.500394</td>\n",
       "      <td>-0.051431</td>\n",
       "      <td>0.195077</td>\n",
       "      <td>-0.173320</td>\n",
       "      <td>-0.008179</td>\n",
       "      <td>0.266138</td>\n",
       "      <td>-0.376966</td>\n",
       "      <td>0.026357</td>\n",
       "      <td>-0.101055</td>\n",
       "      <td>...</td>\n",
       "      <td>-0.404663</td>\n",
       "      <td>0.158582</td>\n",
       "      <td>0.383045</td>\n",
       "      <td>0.165495</td>\n",
       "      <td>-0.503738</td>\n",
       "      <td>-0.323991</td>\n",
       "      <td>0.105799</td>\n",
       "      <td>0.518621</td>\n",
       "      <td>0.257474</td>\n",
       "      <td>3.501000</td>\n",
       "    </tr>\n",
       "    <tr>\n",
       "      <th>std</th>\n",
       "      <td>5.676004</td>\n",
       "      <td>5.550694</td>\n",
       "      <td>5.662355</td>\n",
       "      <td>5.450803</td>\n",
       "      <td>5.517875</td>\n",
       "      <td>5.566616</td>\n",
       "      <td>5.654875</td>\n",
       "      <td>5.511465</td>\n",
       "      <td>5.535498</td>\n",
       "      <td>5.348943</td>\n",
       "      <td>...</td>\n",
       "      <td>5.582902</td>\n",
       "      <td>5.519649</td>\n",
       "      <td>5.603523</td>\n",
       "      <td>5.685317</td>\n",
       "      <td>5.525141</td>\n",
       "      <td>5.618171</td>\n",
       "      <td>5.701498</td>\n",
       "      <td>5.622377</td>\n",
       "      <td>5.592407</td>\n",
       "      <td>2.291356</td>\n",
       "    </tr>\n",
       "    <tr>\n",
       "      <th>min</th>\n",
       "      <td>-19.405287</td>\n",
       "      <td>-22.652231</td>\n",
       "      <td>-19.667265</td>\n",
       "      <td>-21.881980</td>\n",
       "      <td>-19.741271</td>\n",
       "      <td>-19.654484</td>\n",
       "      <td>-18.533880</td>\n",
       "      <td>-19.623795</td>\n",
       "      <td>-20.089030</td>\n",
       "      <td>-18.279167</td>\n",
       "      <td>...</td>\n",
       "      <td>-21.406687</td>\n",
       "      <td>-19.159398</td>\n",
       "      <td>-22.002759</td>\n",
       "      <td>-22.618761</td>\n",
       "      <td>-21.258031</td>\n",
       "      <td>-21.695871</td>\n",
       "      <td>-24.238754</td>\n",
       "      <td>-19.956897</td>\n",
       "      <td>-18.751769</td>\n",
       "      <td>0.000000</td>\n",
       "    </tr>\n",
       "    <tr>\n",
       "      <th>25%</th>\n",
       "      <td>-3.728930</td>\n",
       "      <td>-3.353507</td>\n",
       "      <td>-3.786081</td>\n",
       "      <td>-3.441829</td>\n",
       "      <td>-3.843433</td>\n",
       "      <td>-3.745855</td>\n",
       "      <td>-3.529528</td>\n",
       "      <td>-4.005876</td>\n",
       "      <td>-3.610773</td>\n",
       "      <td>-3.823280</td>\n",
       "      <td>...</td>\n",
       "      <td>-4.030346</td>\n",
       "      <td>-3.620666</td>\n",
       "      <td>-3.403997</td>\n",
       "      <td>-3.574715</td>\n",
       "      <td>-4.216778</td>\n",
       "      <td>-4.049489</td>\n",
       "      <td>-3.773541</td>\n",
       "      <td>-3.259576</td>\n",
       "      <td>-3.543963</td>\n",
       "      <td>1.000000</td>\n",
       "    </tr>\n",
       "    <tr>\n",
       "      <th>50%</th>\n",
       "      <td>0.006111</td>\n",
       "      <td>0.509518</td>\n",
       "      <td>-0.077131</td>\n",
       "      <td>0.240650</td>\n",
       "      <td>-0.101706</td>\n",
       "      <td>0.058320</td>\n",
       "      <td>0.323044</td>\n",
       "      <td>-0.339816</td>\n",
       "      <td>-0.033490</td>\n",
       "      <td>-0.101047</td>\n",
       "      <td>...</td>\n",
       "      <td>-0.335830</td>\n",
       "      <td>0.060452</td>\n",
       "      <td>0.346543</td>\n",
       "      <td>0.028579</td>\n",
       "      <td>-0.517919</td>\n",
       "      <td>-0.367989</td>\n",
       "      <td>0.157999</td>\n",
       "      <td>0.578396</td>\n",
       "      <td>0.212288</td>\n",
       "      <td>3.000000</td>\n",
       "    </tr>\n",
       "    <tr>\n",
       "      <th>75%</th>\n",
       "      <td>3.865709</td>\n",
       "      <td>4.257142</td>\n",
       "      <td>3.685468</td>\n",
       "      <td>3.886383</td>\n",
       "      <td>3.578177</td>\n",
       "      <td>3.787004</td>\n",
       "      <td>4.056428</td>\n",
       "      <td>3.318970</td>\n",
       "      <td>3.743444</td>\n",
       "      <td>3.433963</td>\n",
       "      <td>...</td>\n",
       "      <td>3.354380</td>\n",
       "      <td>3.801935</td>\n",
       "      <td>4.256211</td>\n",
       "      <td>3.839960</td>\n",
       "      <td>3.210718</td>\n",
       "      <td>3.448604</td>\n",
       "      <td>4.017386</td>\n",
       "      <td>4.315890</td>\n",
       "      <td>4.029235</td>\n",
       "      <td>5.000000</td>\n",
       "    </tr>\n",
       "    <tr>\n",
       "      <th>max</th>\n",
       "      <td>21.501254</td>\n",
       "      <td>20.473739</td>\n",
       "      <td>21.172589</td>\n",
       "      <td>22.534479</td>\n",
       "      <td>18.682272</td>\n",
       "      <td>19.899053</td>\n",
       "      <td>21.004332</td>\n",
       "      <td>18.777280</td>\n",
       "      <td>20.167018</td>\n",
       "      <td>18.108598</td>\n",
       "      <td>...</td>\n",
       "      <td>23.011847</td>\n",
       "      <td>21.531888</td>\n",
       "      <td>24.865558</td>\n",
       "      <td>19.736466</td>\n",
       "      <td>21.330885</td>\n",
       "      <td>19.314840</td>\n",
       "      <td>17.588632</td>\n",
       "      <td>18.988684</td>\n",
       "      <td>21.919094</td>\n",
       "      <td>7.000000</td>\n",
       "    </tr>\n",
       "  </tbody>\n",
       "</table>\n",
       "<p>8 rows × 101 columns</p>\n",
       "</div>"
      ],
      "text/plain": [
       "                 0            1            2            3            4  \\\n",
       "count  3999.000000  3999.000000  4000.000000  4000.000000  4000.000000   \n",
       "mean      0.024746     0.500394    -0.051431     0.195077    -0.173320   \n",
       "std       5.676004     5.550694     5.662355     5.450803     5.517875   \n",
       "min     -19.405287   -22.652231   -19.667265   -21.881980   -19.741271   \n",
       "25%      -3.728930    -3.353507    -3.786081    -3.441829    -3.843433   \n",
       "50%       0.006111     0.509518    -0.077131     0.240650    -0.101706   \n",
       "75%       3.865709     4.257142     3.685468     3.886383     3.578177   \n",
       "max      21.501254    20.473739    21.172589    22.534479    18.682272   \n",
       "\n",
       "                 5            6            7            8            9  ...  \\\n",
       "count  3999.000000  3999.000000  4000.000000  3999.000000  4000.000000  ...   \n",
       "mean     -0.008179     0.266138    -0.376966     0.026357    -0.101055  ...   \n",
       "std       5.566616     5.654875     5.511465     5.535498     5.348943  ...   \n",
       "min     -19.654484   -18.533880   -19.623795   -20.089030   -18.279167  ...   \n",
       "25%      -3.745855    -3.529528    -4.005876    -3.610773    -3.823280  ...   \n",
       "50%       0.058320     0.323044    -0.339816    -0.033490    -0.101047  ...   \n",
       "75%       3.787004     4.056428     3.318970     3.743444     3.433963  ...   \n",
       "max      19.899053    21.004332    18.777280    20.167018    18.108598  ...   \n",
       "\n",
       "                91           92           93           94           95  \\\n",
       "count  3999.000000  4000.000000  4000.000000  4000.000000  4000.000000   \n",
       "mean     -0.404663     0.158582     0.383045     0.165495    -0.503738   \n",
       "std       5.582902     5.519649     5.603523     5.685317     5.525141   \n",
       "min     -21.406687   -19.159398   -22.002759   -22.618761   -21.258031   \n",
       "25%      -4.030346    -3.620666    -3.403997    -3.574715    -4.216778   \n",
       "50%      -0.335830     0.060452     0.346543     0.028579    -0.517919   \n",
       "75%       3.354380     3.801935     4.256211     3.839960     3.210718   \n",
       "max      23.011847    21.531888    24.865558    19.736466    21.330885   \n",
       "\n",
       "                96           97           98           99          100  \n",
       "count  4000.000000  4000.000000  3999.000000  4000.000000  4000.000000  \n",
       "mean     -0.323991     0.105799     0.518621     0.257474     3.501000  \n",
       "std       5.618171     5.701498     5.622377     5.592407     2.291356  \n",
       "min     -21.695871   -24.238754   -19.956897   -18.751769     0.000000  \n",
       "25%      -4.049489    -3.773541    -3.259576    -3.543963     1.000000  \n",
       "50%      -0.367989     0.157999     0.578396     0.212288     3.000000  \n",
       "75%       3.448604     4.017386     4.315890     4.029235     5.000000  \n",
       "max      19.314840    17.588632    18.988684    21.919094     7.000000  \n",
       "\n",
       "[8 rows x 101 columns]"
      ]
     },
     "execution_count": 3,
     "metadata": {},
     "output_type": "execute_result"
    }
   ],
   "source": [
    "df = pd.read_csv(\"http://labcolor.space/mlp-2.csv\", dtype={\"target\":\"category\"})\n",
    "df.head()\n",
    "df.describe()"
   ]
  },
  {
   "cell_type": "markdown",
   "metadata": {
    "id": "m9m0a_sb1UvO"
   },
   "source": [
    "**Описание данных**\n",
    "\n",
    "Ваш ответ: 3999-4000 объектов с 101 признаком"
   ]
  },
  {
   "cell_type": "markdown",
   "metadata": {
    "id": "1m7Zs2RS1krd"
   },
   "source": [
    "## Подготовка данных\n",
    "\n",
    "Убедитесь что в данных нет отсутствующих значений, если они есть, удалите их или заполните средними значениями - `df.isnull()`."
   ]
  },
  {
   "cell_type": "code",
   "execution_count": 4,
   "metadata": {
    "id": "njpVm4861w4p"
   },
   "outputs": [
    {
     "name": "stdout",
     "output_type": "stream",
     "text": [
      "3980\n"
     ]
    }
   ],
   "source": [
    "df.isnull()\n",
    "df = df.dropna()\n",
    "print(len(df))"
   ]
  },
  {
   "cell_type": "markdown",
   "metadata": {
    "id": "ReT7oB2f1xOL"
   },
   "source": [
    "**Были ли отсутствующие значения и что вы с ними сделали?**\n",
    "\n",
    "Ваш ответ: Было 20 отсутствующих значений, они были удалены"
   ]
  },
  {
   "cell_type": "markdown",
   "metadata": {
    "id": "3wIj3aO58Mpx"
   },
   "source": [
    "С помощью `train_test_split` разделите данные на обучающие и тестовые (15-20%). Не забудьте про `random_state`."
   ]
  },
  {
   "cell_type": "code",
   "execution_count": 5,
   "metadata": {
    "id": "OnVBVqiQ8bCl"
   },
   "outputs": [],
   "source": [
    "from sklearn.model_selection import train_test_split\n",
    "y = df.pop('100')\n",
    "X = df\n",
    "X_train, X_test, y_train, y_test = train_test_split(X, y, test_size = 0.2, train_size = 0.8, random_state = 40)"
   ]
  },
  {
   "cell_type": "markdown",
   "metadata": {
    "id": "0A50H4999EEf"
   },
   "source": [
    "Масштабируйте признаки. Для этого импортируйте соответствующий класс, создайте его экземпляр, выполните его \"подгонку\" и примените его к признакам."
   ]
  },
  {
   "cell_type": "code",
   "execution_count": 6,
   "metadata": {
    "id": "viG4aI_I9EWo"
   },
   "outputs": [],
   "source": [
    "from sklearn.preprocessing import StandardScaler# Ваш код\n",
    "sc = StandardScaler()\n",
    "\n",
    "sc.fit(X_train)\n",
    "X_train_scaled = sc.transform(X_train)\n",
    "\n",
    "sc.fit(X_test)\n",
    "X_test_scaled = sc.transform(X_test)"
   ]
  },
  {
   "cell_type": "markdown",
   "metadata": {
    "id": "p0LFn0mC9_RX"
   },
   "source": [
    "## Обучение модели и подборка гиперпараметров\n",
    "\n",
    "Гиперпараметры и их значения задаются в виде словаря и затем вместе с экземпляром модели в качестве аргументов передаются в конструктор класса `GridSearchCV`, который будет создавать разные варианты модели и обучать их, используя кросс валидацию, сохраняя промежуточные результаты.\n",
    "\n",
    "Попробуйте разные варианты:\n",
    "* количества нейронов в скрытых слоях (hidden_layer_sizes),\n",
    "* функций активации (activation),\n",
    "* скорости обучения (learning_rate_init)."
   ]
  },
  {
   "cell_type": "markdown",
   "metadata": {
    "id": "Bqa2xa6U_H-m"
   },
   "source": [
    "**Что такое гиперпараметры для модели?**\n",
    "\n",
    "Ваш ответ: параметры модели, используемые для кросс-валидации\n",
    "\n",
    "**Опишите суть кросс валидации.**\n",
    "\n",
    "Ваш ответ: создание дополнительных моделей для проверки основной\n",
    "\n",
    "**В чем заключается идея поиска по сетке (grid search)?**\n",
    "\n",
    "Ваш ответ: перебор значений из диапазона"
   ]
  },
  {
   "cell_type": "code",
   "execution_count": 7,
   "metadata": {
    "id": "utuYQLEr-IRy"
   },
   "outputs": [],
   "source": [
    "param_grid = {\n",
    "    # в качестве ключей указываются параметры модели\n",
    "    \"hidden_layer_sizes\": [101, 50, 25],\n",
    "\n",
    "    # в качестве значений списки из значений, которые будут перебираться\n",
    "    \"activation\": [\"identity\", \"logistic\", \"tanh\", \"relu\"],\n",
    "\n",
    "    # например 'alpha': [0.0001, 0.001]\n",
    "    \"learning_rate_init\": [0.001, 0.01, 0.1],\n",
    "}"
   ]
  },
  {
   "cell_type": "markdown",
   "metadata": {
    "id": "cxLLtdP6CIv-"
   },
   "source": [
    "**Сколько вариантов модели будет в итоге обучено?**\n",
    "\n",
    "Ваш ответ: 3*4*3 = 36"
   ]
  },
  {
   "cell_type": "code",
   "execution_count": 8,
   "metadata": {
    "id": "sQNECXh_AS0N"
   },
   "outputs": [],
   "source": [
    "from sklearn.model_selection import GridSearchCV\n",
    "from sklearn.neural_network import MLPClassifier"
   ]
  },
  {
   "cell_type": "code",
   "execution_count": 9,
   "metadata": {
    "id": "o0Gpl5_9APoB"
   },
   "outputs": [
    {
     "name": "stderr",
     "output_type": "stream",
     "text": [
      "C:\\Users\\aleks\\AppData\\Local\\Programs\\Python\\Python312\\Lib\\site-packages\\sklearn\\neural_network\\_multilayer_perceptron.py:691: ConvergenceWarning: Stochastic Optimizer: Maximum iterations (200) reached and the optimization hasn't converged yet.\n",
      "  warnings.warn(\n",
      "C:\\Users\\aleks\\AppData\\Local\\Programs\\Python\\Python312\\Lib\\site-packages\\sklearn\\neural_network\\_multilayer_perceptron.py:691: ConvergenceWarning: Stochastic Optimizer: Maximum iterations (200) reached and the optimization hasn't converged yet.\n",
      "  warnings.warn(\n",
      "C:\\Users\\aleks\\AppData\\Local\\Programs\\Python\\Python312\\Lib\\site-packages\\sklearn\\neural_network\\_multilayer_perceptron.py:691: ConvergenceWarning: Stochastic Optimizer: Maximum iterations (200) reached and the optimization hasn't converged yet.\n",
      "  warnings.warn(\n",
      "C:\\Users\\aleks\\AppData\\Local\\Programs\\Python\\Python312\\Lib\\site-packages\\sklearn\\neural_network\\_multilayer_perceptron.py:691: ConvergenceWarning: Stochastic Optimizer: Maximum iterations (200) reached and the optimization hasn't converged yet.\n",
      "  warnings.warn(\n",
      "C:\\Users\\aleks\\AppData\\Local\\Programs\\Python\\Python312\\Lib\\site-packages\\sklearn\\neural_network\\_multilayer_perceptron.py:691: ConvergenceWarning: Stochastic Optimizer: Maximum iterations (200) reached and the optimization hasn't converged yet.\n",
      "  warnings.warn(\n",
      "C:\\Users\\aleks\\AppData\\Local\\Programs\\Python\\Python312\\Lib\\site-packages\\sklearn\\neural_network\\_multilayer_perceptron.py:691: ConvergenceWarning: Stochastic Optimizer: Maximum iterations (200) reached and the optimization hasn't converged yet.\n",
      "  warnings.warn(\n",
      "C:\\Users\\aleks\\AppData\\Local\\Programs\\Python\\Python312\\Lib\\site-packages\\sklearn\\neural_network\\_multilayer_perceptron.py:691: ConvergenceWarning: Stochastic Optimizer: Maximum iterations (200) reached and the optimization hasn't converged yet.\n",
      "  warnings.warn(\n",
      "C:\\Users\\aleks\\AppData\\Local\\Programs\\Python\\Python312\\Lib\\site-packages\\sklearn\\neural_network\\_multilayer_perceptron.py:691: ConvergenceWarning: Stochastic Optimizer: Maximum iterations (200) reached and the optimization hasn't converged yet.\n",
      "  warnings.warn(\n",
      "C:\\Users\\aleks\\AppData\\Local\\Programs\\Python\\Python312\\Lib\\site-packages\\sklearn\\neural_network\\_multilayer_perceptron.py:691: ConvergenceWarning: Stochastic Optimizer: Maximum iterations (200) reached and the optimization hasn't converged yet.\n",
      "  warnings.warn(\n",
      "C:\\Users\\aleks\\AppData\\Local\\Programs\\Python\\Python312\\Lib\\site-packages\\sklearn\\neural_network\\_multilayer_perceptron.py:691: ConvergenceWarning: Stochastic Optimizer: Maximum iterations (200) reached and the optimization hasn't converged yet.\n",
      "  warnings.warn(\n",
      "C:\\Users\\aleks\\AppData\\Local\\Programs\\Python\\Python312\\Lib\\site-packages\\sklearn\\neural_network\\_multilayer_perceptron.py:691: ConvergenceWarning: Stochastic Optimizer: Maximum iterations (200) reached and the optimization hasn't converged yet.\n",
      "  warnings.warn(\n",
      "C:\\Users\\aleks\\AppData\\Local\\Programs\\Python\\Python312\\Lib\\site-packages\\sklearn\\neural_network\\_multilayer_perceptron.py:691: ConvergenceWarning: Stochastic Optimizer: Maximum iterations (200) reached and the optimization hasn't converged yet.\n",
      "  warnings.warn(\n",
      "C:\\Users\\aleks\\AppData\\Local\\Programs\\Python\\Python312\\Lib\\site-packages\\sklearn\\neural_network\\_multilayer_perceptron.py:691: ConvergenceWarning: Stochastic Optimizer: Maximum iterations (200) reached and the optimization hasn't converged yet.\n",
      "  warnings.warn(\n",
      "C:\\Users\\aleks\\AppData\\Local\\Programs\\Python\\Python312\\Lib\\site-packages\\sklearn\\neural_network\\_multilayer_perceptron.py:691: ConvergenceWarning: Stochastic Optimizer: Maximum iterations (200) reached and the optimization hasn't converged yet.\n",
      "  warnings.warn(\n",
      "C:\\Users\\aleks\\AppData\\Local\\Programs\\Python\\Python312\\Lib\\site-packages\\sklearn\\neural_network\\_multilayer_perceptron.py:691: ConvergenceWarning: Stochastic Optimizer: Maximum iterations (200) reached and the optimization hasn't converged yet.\n",
      "  warnings.warn(\n",
      "C:\\Users\\aleks\\AppData\\Local\\Programs\\Python\\Python312\\Lib\\site-packages\\sklearn\\neural_network\\_multilayer_perceptron.py:691: ConvergenceWarning: Stochastic Optimizer: Maximum iterations (200) reached and the optimization hasn't converged yet.\n",
      "  warnings.warn(\n",
      "C:\\Users\\aleks\\AppData\\Local\\Programs\\Python\\Python312\\Lib\\site-packages\\sklearn\\neural_network\\_multilayer_perceptron.py:691: ConvergenceWarning: Stochastic Optimizer: Maximum iterations (200) reached and the optimization hasn't converged yet.\n",
      "  warnings.warn(\n",
      "C:\\Users\\aleks\\AppData\\Local\\Programs\\Python\\Python312\\Lib\\site-packages\\sklearn\\neural_network\\_multilayer_perceptron.py:691: ConvergenceWarning: Stochastic Optimizer: Maximum iterations (200) reached and the optimization hasn't converged yet.\n",
      "  warnings.warn(\n",
      "C:\\Users\\aleks\\AppData\\Local\\Programs\\Python\\Python312\\Lib\\site-packages\\sklearn\\neural_network\\_multilayer_perceptron.py:691: ConvergenceWarning: Stochastic Optimizer: Maximum iterations (200) reached and the optimization hasn't converged yet.\n",
      "  warnings.warn(\n",
      "C:\\Users\\aleks\\AppData\\Local\\Programs\\Python\\Python312\\Lib\\site-packages\\sklearn\\neural_network\\_multilayer_perceptron.py:691: ConvergenceWarning: Stochastic Optimizer: Maximum iterations (200) reached and the optimization hasn't converged yet.\n",
      "  warnings.warn(\n",
      "C:\\Users\\aleks\\AppData\\Local\\Programs\\Python\\Python312\\Lib\\site-packages\\sklearn\\neural_network\\_multilayer_perceptron.py:691: ConvergenceWarning: Stochastic Optimizer: Maximum iterations (200) reached and the optimization hasn't converged yet.\n",
      "  warnings.warn(\n",
      "C:\\Users\\aleks\\AppData\\Local\\Programs\\Python\\Python312\\Lib\\site-packages\\sklearn\\neural_network\\_multilayer_perceptron.py:691: ConvergenceWarning: Stochastic Optimizer: Maximum iterations (200) reached and the optimization hasn't converged yet.\n",
      "  warnings.warn(\n",
      "C:\\Users\\aleks\\AppData\\Local\\Programs\\Python\\Python312\\Lib\\site-packages\\sklearn\\neural_network\\_multilayer_perceptron.py:691: ConvergenceWarning: Stochastic Optimizer: Maximum iterations (200) reached and the optimization hasn't converged yet.\n",
      "  warnings.warn(\n",
      "C:\\Users\\aleks\\AppData\\Local\\Programs\\Python\\Python312\\Lib\\site-packages\\sklearn\\neural_network\\_multilayer_perceptron.py:691: ConvergenceWarning: Stochastic Optimizer: Maximum iterations (200) reached and the optimization hasn't converged yet.\n",
      "  warnings.warn(\n",
      "C:\\Users\\aleks\\AppData\\Local\\Programs\\Python\\Python312\\Lib\\site-packages\\sklearn\\neural_network\\_multilayer_perceptron.py:691: ConvergenceWarning: Stochastic Optimizer: Maximum iterations (200) reached and the optimization hasn't converged yet.\n",
      "  warnings.warn(\n",
      "C:\\Users\\aleks\\AppData\\Local\\Programs\\Python\\Python312\\Lib\\site-packages\\sklearn\\neural_network\\_multilayer_perceptron.py:691: ConvergenceWarning: Stochastic Optimizer: Maximum iterations (200) reached and the optimization hasn't converged yet.\n",
      "  warnings.warn(\n",
      "C:\\Users\\aleks\\AppData\\Local\\Programs\\Python\\Python312\\Lib\\site-packages\\sklearn\\neural_network\\_multilayer_perceptron.py:691: ConvergenceWarning: Stochastic Optimizer: Maximum iterations (200) reached and the optimization hasn't converged yet.\n",
      "  warnings.warn(\n",
      "C:\\Users\\aleks\\AppData\\Local\\Programs\\Python\\Python312\\Lib\\site-packages\\sklearn\\neural_network\\_multilayer_perceptron.py:691: ConvergenceWarning: Stochastic Optimizer: Maximum iterations (200) reached and the optimization hasn't converged yet.\n",
      "  warnings.warn(\n",
      "C:\\Users\\aleks\\AppData\\Local\\Programs\\Python\\Python312\\Lib\\site-packages\\sklearn\\neural_network\\_multilayer_perceptron.py:691: ConvergenceWarning: Stochastic Optimizer: Maximum iterations (200) reached and the optimization hasn't converged yet.\n",
      "  warnings.warn(\n",
      "C:\\Users\\aleks\\AppData\\Local\\Programs\\Python\\Python312\\Lib\\site-packages\\sklearn\\neural_network\\_multilayer_perceptron.py:691: ConvergenceWarning: Stochastic Optimizer: Maximum iterations (200) reached and the optimization hasn't converged yet.\n",
      "  warnings.warn(\n",
      "C:\\Users\\aleks\\AppData\\Local\\Programs\\Python\\Python312\\Lib\\site-packages\\sklearn\\neural_network\\_multilayer_perceptron.py:691: ConvergenceWarning: Stochastic Optimizer: Maximum iterations (200) reached and the optimization hasn't converged yet.\n",
      "  warnings.warn(\n",
      "C:\\Users\\aleks\\AppData\\Local\\Programs\\Python\\Python312\\Lib\\site-packages\\sklearn\\neural_network\\_multilayer_perceptron.py:691: ConvergenceWarning: Stochastic Optimizer: Maximum iterations (200) reached and the optimization hasn't converged yet.\n",
      "  warnings.warn(\n",
      "C:\\Users\\aleks\\AppData\\Local\\Programs\\Python\\Python312\\Lib\\site-packages\\sklearn\\neural_network\\_multilayer_perceptron.py:691: ConvergenceWarning: Stochastic Optimizer: Maximum iterations (200) reached and the optimization hasn't converged yet.\n",
      "  warnings.warn(\n",
      "C:\\Users\\aleks\\AppData\\Local\\Programs\\Python\\Python312\\Lib\\site-packages\\sklearn\\neural_network\\_multilayer_perceptron.py:691: ConvergenceWarning: Stochastic Optimizer: Maximum iterations (200) reached and the optimization hasn't converged yet.\n",
      "  warnings.warn(\n",
      "C:\\Users\\aleks\\AppData\\Local\\Programs\\Python\\Python312\\Lib\\site-packages\\sklearn\\neural_network\\_multilayer_perceptron.py:691: ConvergenceWarning: Stochastic Optimizer: Maximum iterations (200) reached and the optimization hasn't converged yet.\n",
      "  warnings.warn(\n",
      "C:\\Users\\aleks\\AppData\\Local\\Programs\\Python\\Python312\\Lib\\site-packages\\sklearn\\neural_network\\_multilayer_perceptron.py:691: ConvergenceWarning: Stochastic Optimizer: Maximum iterations (200) reached and the optimization hasn't converged yet.\n",
      "  warnings.warn(\n",
      "C:\\Users\\aleks\\AppData\\Local\\Programs\\Python\\Python312\\Lib\\site-packages\\sklearn\\neural_network\\_multilayer_perceptron.py:691: ConvergenceWarning: Stochastic Optimizer: Maximum iterations (200) reached and the optimization hasn't converged yet.\n",
      "  warnings.warn(\n"
     ]
    },
    {
     "data": {
      "text/html": [
       "<style>#sk-container-id-1 {color: black;}#sk-container-id-1 pre{padding: 0;}#sk-container-id-1 div.sk-toggleable {background-color: white;}#sk-container-id-1 label.sk-toggleable__label {cursor: pointer;display: block;width: 100%;margin-bottom: 0;padding: 0.3em;box-sizing: border-box;text-align: center;}#sk-container-id-1 label.sk-toggleable__label-arrow:before {content: \"▸\";float: left;margin-right: 0.25em;color: #696969;}#sk-container-id-1 label.sk-toggleable__label-arrow:hover:before {color: black;}#sk-container-id-1 div.sk-estimator:hover label.sk-toggleable__label-arrow:before {color: black;}#sk-container-id-1 div.sk-toggleable__content {max-height: 0;max-width: 0;overflow: hidden;text-align: left;background-color: #f0f8ff;}#sk-container-id-1 div.sk-toggleable__content pre {margin: 0.2em;color: black;border-radius: 0.25em;background-color: #f0f8ff;}#sk-container-id-1 input.sk-toggleable__control:checked~div.sk-toggleable__content {max-height: 200px;max-width: 100%;overflow: auto;}#sk-container-id-1 input.sk-toggleable__control:checked~label.sk-toggleable__label-arrow:before {content: \"▾\";}#sk-container-id-1 div.sk-estimator input.sk-toggleable__control:checked~label.sk-toggleable__label {background-color: #d4ebff;}#sk-container-id-1 div.sk-label input.sk-toggleable__control:checked~label.sk-toggleable__label {background-color: #d4ebff;}#sk-container-id-1 input.sk-hidden--visually {border: 0;clip: rect(1px 1px 1px 1px);clip: rect(1px, 1px, 1px, 1px);height: 1px;margin: -1px;overflow: hidden;padding: 0;position: absolute;width: 1px;}#sk-container-id-1 div.sk-estimator {font-family: monospace;background-color: #f0f8ff;border: 1px dotted black;border-radius: 0.25em;box-sizing: border-box;margin-bottom: 0.5em;}#sk-container-id-1 div.sk-estimator:hover {background-color: #d4ebff;}#sk-container-id-1 div.sk-parallel-item::after {content: \"\";width: 100%;border-bottom: 1px solid gray;flex-grow: 1;}#sk-container-id-1 div.sk-label:hover label.sk-toggleable__label {background-color: #d4ebff;}#sk-container-id-1 div.sk-serial::before {content: \"\";position: absolute;border-left: 1px solid gray;box-sizing: border-box;top: 0;bottom: 0;left: 50%;z-index: 0;}#sk-container-id-1 div.sk-serial {display: flex;flex-direction: column;align-items: center;background-color: white;padding-right: 0.2em;padding-left: 0.2em;position: relative;}#sk-container-id-1 div.sk-item {position: relative;z-index: 1;}#sk-container-id-1 div.sk-parallel {display: flex;align-items: stretch;justify-content: center;background-color: white;position: relative;}#sk-container-id-1 div.sk-item::before, #sk-container-id-1 div.sk-parallel-item::before {content: \"\";position: absolute;border-left: 1px solid gray;box-sizing: border-box;top: 0;bottom: 0;left: 50%;z-index: -1;}#sk-container-id-1 div.sk-parallel-item {display: flex;flex-direction: column;z-index: 1;position: relative;background-color: white;}#sk-container-id-1 div.sk-parallel-item:first-child::after {align-self: flex-end;width: 50%;}#sk-container-id-1 div.sk-parallel-item:last-child::after {align-self: flex-start;width: 50%;}#sk-container-id-1 div.sk-parallel-item:only-child::after {width: 0;}#sk-container-id-1 div.sk-dashed-wrapped {border: 1px dashed gray;margin: 0 0.4em 0.5em 0.4em;box-sizing: border-box;padding-bottom: 0.4em;background-color: white;}#sk-container-id-1 div.sk-label label {font-family: monospace;font-weight: bold;display: inline-block;line-height: 1.2em;}#sk-container-id-1 div.sk-label-container {text-align: center;}#sk-container-id-1 div.sk-container {/* jupyter's `normalize.less` sets `[hidden] { display: none; }` but bootstrap.min.css set `[hidden] { display: none !important; }` so we also need the `!important` here to be able to override the default hidden behavior on the sphinx rendered scikit-learn.org. See: https://github.com/scikit-learn/scikit-learn/issues/21755 */display: inline-block !important;position: relative;}#sk-container-id-1 div.sk-text-repr-fallback {display: none;}</style><div id=\"sk-container-id-1\" class=\"sk-top-container\"><div class=\"sk-text-repr-fallback\"><pre>GridSearchCV(cv=3, estimator=MLPClassifier(random_state=10),\n",
       "             param_grid={&#x27;activation&#x27;: [&#x27;identity&#x27;, &#x27;logistic&#x27;, &#x27;tanh&#x27;, &#x27;relu&#x27;],\n",
       "                         &#x27;hidden_layer_sizes&#x27;: [101, 50, 25],\n",
       "                         &#x27;learning_rate_init&#x27;: [0.001, 0.01, 0.1]},\n",
       "             scoring=&#x27;accuracy&#x27;)</pre><b>In a Jupyter environment, please rerun this cell to show the HTML representation or trust the notebook. <br />On GitHub, the HTML representation is unable to render, please try loading this page with nbviewer.org.</b></div><div class=\"sk-container\" hidden><div class=\"sk-item sk-dashed-wrapped\"><div class=\"sk-label-container\"><div class=\"sk-label sk-toggleable\"><input class=\"sk-toggleable__control sk-hidden--visually\" id=\"sk-estimator-id-1\" type=\"checkbox\" ><label for=\"sk-estimator-id-1\" class=\"sk-toggleable__label sk-toggleable__label-arrow\">GridSearchCV</label><div class=\"sk-toggleable__content\"><pre>GridSearchCV(cv=3, estimator=MLPClassifier(random_state=10),\n",
       "             param_grid={&#x27;activation&#x27;: [&#x27;identity&#x27;, &#x27;logistic&#x27;, &#x27;tanh&#x27;, &#x27;relu&#x27;],\n",
       "                         &#x27;hidden_layer_sizes&#x27;: [101, 50, 25],\n",
       "                         &#x27;learning_rate_init&#x27;: [0.001, 0.01, 0.1]},\n",
       "             scoring=&#x27;accuracy&#x27;)</pre></div></div></div><div class=\"sk-parallel\"><div class=\"sk-parallel-item\"><div class=\"sk-item\"><div class=\"sk-label-container\"><div class=\"sk-label sk-toggleable\"><input class=\"sk-toggleable__control sk-hidden--visually\" id=\"sk-estimator-id-2\" type=\"checkbox\" ><label for=\"sk-estimator-id-2\" class=\"sk-toggleable__label sk-toggleable__label-arrow\">estimator: MLPClassifier</label><div class=\"sk-toggleable__content\"><pre>MLPClassifier(random_state=10)</pre></div></div></div><div class=\"sk-serial\"><div class=\"sk-item\"><div class=\"sk-estimator sk-toggleable\"><input class=\"sk-toggleable__control sk-hidden--visually\" id=\"sk-estimator-id-3\" type=\"checkbox\" ><label for=\"sk-estimator-id-3\" class=\"sk-toggleable__label sk-toggleable__label-arrow\">MLPClassifier</label><div class=\"sk-toggleable__content\"><pre>MLPClassifier(random_state=10)</pre></div></div></div></div></div></div></div></div></div></div>"
      ],
      "text/plain": [
       "GridSearchCV(cv=3, estimator=MLPClassifier(random_state=10),\n",
       "             param_grid={'activation': ['identity', 'logistic', 'tanh', 'relu'],\n",
       "                         'hidden_layer_sizes': [101, 50, 25],\n",
       "                         'learning_rate_init': [0.001, 0.01, 0.1]},\n",
       "             scoring='accuracy')"
      ]
     },
     "execution_count": 9,
     "metadata": {},
     "output_type": "execute_result"
    }
   ],
   "source": [
    "mlp = MLPClassifier(random_state=10)# Ваш код и напоминание про random_state\n",
    "\n",
    "grid_search = GridSearchCV(mlp, param_grid, cv=3, scoring='accuracy')\n",
    "grid_search.fit(X_train_scaled, y_train) # Запустите обучение с нужными данными"
   ]
  },
  {
   "cell_type": "markdown",
   "metadata": {
    "id": "W6Y5jQacCVF1"
   },
   "source": [
    "**Что значит cv=3 для GridSearchCV?**\n",
    "\n",
    "Ваш ответ: параметр кросс-валидации, проверка с 3 другими моделями"
   ]
  },
  {
   "cell_type": "code",
   "execution_count": 10,
   "metadata": {
    "id": "e9UUYEoPAvtg"
   },
   "outputs": [
    {
     "name": "stdout",
     "output_type": "stream",
     "text": [
      "Гиперпараметры модели с лучшим результатом: {'activation': 'relu', 'hidden_layer_sizes': 101, 'learning_rate_init': 0.001}\n",
      "Лучшая точность при кросс валидации: 0.62\n"
     ]
    }
   ],
   "source": [
    "print(f\"Гиперпараметры модели с лучшим результатом: {grid_search.best_params_}\")\n",
    "print(f\"Лучшая точность при кросс валидации: {grid_search.best_score_:.2f}\")"
   ]
  },
  {
   "cell_type": "markdown",
   "metadata": {
    "id": "YO7BbXzdCcgB"
   },
   "source": [
    "## Тест наилучшей модели"
   ]
  },
  {
   "cell_type": "code",
   "execution_count": 11,
   "metadata": {
    "id": "Wk3d147YAwZE"
   },
   "outputs": [
    {
     "name": "stdout",
     "output_type": "stream",
     "text": [
      "Точность на тестовой выборке: 0.62\n"
     ]
    }
   ],
   "source": [
    "test_accuracy = grid_search.score(X_test_scaled, y_test) # Подставьте данные тестовой выборки\n",
    "print(f\"Точность на тестовой выборке: {test_accuracy:.2f}\")"
   ]
  },
  {
   "cell_type": "code",
   "execution_count": 12,
   "metadata": {
    "id": "K9vJahQNDKUf"
   },
   "outputs": [
    {
     "data": {
      "text/plain": [
       "{'mean_fit_time': array([0.30058114, 0.35812243, 0.13926935, 0.20329491, 0.13242753,\n",
       "        0.07310168, 0.25324845, 0.14075979, 0.07456064, 3.42391523,\n",
       "        2.43070602, 0.95737799, 1.58400528, 1.47049832, 0.68847005,\n",
       "        0.99812722, 0.96941741, 0.32544096, 1.43787964, 0.62032183,\n",
       "        0.2514437 , 0.83787696, 0.53806885, 0.17316556, 0.63746309,\n",
       "        0.65118837, 0.22210614, 1.5269208 , 0.44582057, 0.17275135,\n",
       "        0.88109986, 0.34055201, 0.08636419, 0.6717213 , 0.63383905,\n",
       "        0.14937544]),\n",
       " 'std_fit_time': array([0.07171099, 0.09364739, 0.01044719, 0.01385731, 0.05299148,\n",
       "        0.00728178, 0.01343116, 0.02593988, 0.01488544, 0.03796734,\n",
       "        0.05549226, 0.02290394, 0.00655922, 0.00680265, 0.01381585,\n",
       "        0.01130815, 0.00904279, 0.06368743, 0.00738552, 0.0063053 ,\n",
       "        0.01279496, 0.00351589, 0.00977374, 0.02805041, 0.00442479,\n",
       "        0.00669457, 0.01799698, 0.01244816, 0.00754775, 0.05169372,\n",
       "        0.00595484, 0.00471348, 0.00601917, 0.01163772, 0.02504427,\n",
       "        0.04196509]),\n",
       " 'mean_score_time': array([5.20857175e-03, 3.33547592e-04, 0.00000000e+00, 0.00000000e+00,\n",
       "        6.47465388e-04, 0.00000000e+00, 0.00000000e+00, 9.66151555e-04,\n",
       "        4.00066376e-04, 0.00000000e+00, 1.03489558e-03, 3.39190165e-04,\n",
       "        5.23972511e-03, 1.04224682e-02, 5.25697072e-03, 5.38698832e-03,\n",
       "        9.96669134e-04, 9.94682312e-04, 5.30083974e-03, 5.26475906e-03,\n",
       "        0.00000000e+00, 0.00000000e+00, 1.53382619e-05, 0.00000000e+00,\n",
       "        5.24210930e-03, 0.00000000e+00, 5.72244326e-03, 6.67174657e-04,\n",
       "        1.32791201e-03, 6.73770905e-04, 5.98645210e-03, 0.00000000e+00,\n",
       "        0.00000000e+00, 6.15533193e-03, 6.67333603e-04, 6.37690226e-04]),\n",
       " 'std_score_time': array([7.36603281e-03, 4.71707529e-04, 0.00000000e+00, 0.00000000e+00,\n",
       "        9.15654333e-04, 0.00000000e+00, 0.00000000e+00, 7.75162230e-04,\n",
       "        5.65779294e-04, 0.00000000e+00, 1.46356336e-03, 4.79687332e-04,\n",
       "        7.41009032e-03, 7.36980557e-03, 7.43447929e-03, 7.61835195e-03,\n",
       "        1.40950301e-03, 1.40669322e-03, 7.49651946e-03, 7.44549367e-03,\n",
       "        0.00000000e+00, 0.00000000e+00, 2.16915780e-05, 0.00000000e+00,\n",
       "        7.41346207e-03, 0.00000000e+00, 7.03121407e-03, 9.43527449e-04,\n",
       "        4.76157830e-04, 9.52855951e-04, 6.81739745e-03, 0.00000000e+00,\n",
       "        0.00000000e+00, 7.49211004e-03, 9.43752232e-04, 9.01830167e-04]),\n",
       " 'param_activation': masked_array(data=['identity', 'identity', 'identity', 'identity',\n",
       "                    'identity', 'identity', 'identity', 'identity',\n",
       "                    'identity', 'logistic', 'logistic', 'logistic',\n",
       "                    'logistic', 'logistic', 'logistic', 'logistic',\n",
       "                    'logistic', 'logistic', 'tanh', 'tanh', 'tanh', 'tanh',\n",
       "                    'tanh', 'tanh', 'tanh', 'tanh', 'tanh', 'relu', 'relu',\n",
       "                    'relu', 'relu', 'relu', 'relu', 'relu', 'relu', 'relu'],\n",
       "              mask=[False, False, False, False, False, False, False, False,\n",
       "                    False, False, False, False, False, False, False, False,\n",
       "                    False, False, False, False, False, False, False, False,\n",
       "                    False, False, False, False, False, False, False, False,\n",
       "                    False, False, False, False],\n",
       "        fill_value='?',\n",
       "             dtype=object),\n",
       " 'param_hidden_layer_sizes': masked_array(data=[101, 101, 101, 50, 50, 50, 25, 25, 25, 101, 101, 101,\n",
       "                    50, 50, 50, 25, 25, 25, 101, 101, 101, 50, 50, 50, 25,\n",
       "                    25, 25, 101, 101, 101, 50, 50, 50, 25, 25, 25],\n",
       "              mask=[False, False, False, False, False, False, False, False,\n",
       "                    False, False, False, False, False, False, False, False,\n",
       "                    False, False, False, False, False, False, False, False,\n",
       "                    False, False, False, False, False, False, False, False,\n",
       "                    False, False, False, False],\n",
       "        fill_value='?',\n",
       "             dtype=object),\n",
       " 'param_learning_rate_init': masked_array(data=[0.001, 0.01, 0.1, 0.001, 0.01, 0.1, 0.001, 0.01, 0.1,\n",
       "                    0.001, 0.01, 0.1, 0.001, 0.01, 0.1, 0.001, 0.01, 0.1,\n",
       "                    0.001, 0.01, 0.1, 0.001, 0.01, 0.1, 0.001, 0.01, 0.1,\n",
       "                    0.001, 0.01, 0.1, 0.001, 0.01, 0.1, 0.001, 0.01, 0.1],\n",
       "              mask=[False, False, False, False, False, False, False, False,\n",
       "                    False, False, False, False, False, False, False, False,\n",
       "                    False, False, False, False, False, False, False, False,\n",
       "                    False, False, False, False, False, False, False, False,\n",
       "                    False, False, False, False],\n",
       "        fill_value='?',\n",
       "             dtype=object),\n",
       " 'params': [{'activation': 'identity',\n",
       "   'hidden_layer_sizes': 101,\n",
       "   'learning_rate_init': 0.001},\n",
       "  {'activation': 'identity',\n",
       "   'hidden_layer_sizes': 101,\n",
       "   'learning_rate_init': 0.01},\n",
       "  {'activation': 'identity',\n",
       "   'hidden_layer_sizes': 101,\n",
       "   'learning_rate_init': 0.1},\n",
       "  {'activation': 'identity',\n",
       "   'hidden_layer_sizes': 50,\n",
       "   'learning_rate_init': 0.001},\n",
       "  {'activation': 'identity',\n",
       "   'hidden_layer_sizes': 50,\n",
       "   'learning_rate_init': 0.01},\n",
       "  {'activation': 'identity',\n",
       "   'hidden_layer_sizes': 50,\n",
       "   'learning_rate_init': 0.1},\n",
       "  {'activation': 'identity',\n",
       "   'hidden_layer_sizes': 25,\n",
       "   'learning_rate_init': 0.001},\n",
       "  {'activation': 'identity',\n",
       "   'hidden_layer_sizes': 25,\n",
       "   'learning_rate_init': 0.01},\n",
       "  {'activation': 'identity',\n",
       "   'hidden_layer_sizes': 25,\n",
       "   'learning_rate_init': 0.1},\n",
       "  {'activation': 'logistic',\n",
       "   'hidden_layer_sizes': 101,\n",
       "   'learning_rate_init': 0.001},\n",
       "  {'activation': 'logistic',\n",
       "   'hidden_layer_sizes': 101,\n",
       "   'learning_rate_init': 0.01},\n",
       "  {'activation': 'logistic',\n",
       "   'hidden_layer_sizes': 101,\n",
       "   'learning_rate_init': 0.1},\n",
       "  {'activation': 'logistic',\n",
       "   'hidden_layer_sizes': 50,\n",
       "   'learning_rate_init': 0.001},\n",
       "  {'activation': 'logistic',\n",
       "   'hidden_layer_sizes': 50,\n",
       "   'learning_rate_init': 0.01},\n",
       "  {'activation': 'logistic',\n",
       "   'hidden_layer_sizes': 50,\n",
       "   'learning_rate_init': 0.1},\n",
       "  {'activation': 'logistic',\n",
       "   'hidden_layer_sizes': 25,\n",
       "   'learning_rate_init': 0.001},\n",
       "  {'activation': 'logistic',\n",
       "   'hidden_layer_sizes': 25,\n",
       "   'learning_rate_init': 0.01},\n",
       "  {'activation': 'logistic',\n",
       "   'hidden_layer_sizes': 25,\n",
       "   'learning_rate_init': 0.1},\n",
       "  {'activation': 'tanh',\n",
       "   'hidden_layer_sizes': 101,\n",
       "   'learning_rate_init': 0.001},\n",
       "  {'activation': 'tanh',\n",
       "   'hidden_layer_sizes': 101,\n",
       "   'learning_rate_init': 0.01},\n",
       "  {'activation': 'tanh', 'hidden_layer_sizes': 101, 'learning_rate_init': 0.1},\n",
       "  {'activation': 'tanh',\n",
       "   'hidden_layer_sizes': 50,\n",
       "   'learning_rate_init': 0.001},\n",
       "  {'activation': 'tanh', 'hidden_layer_sizes': 50, 'learning_rate_init': 0.01},\n",
       "  {'activation': 'tanh', 'hidden_layer_sizes': 50, 'learning_rate_init': 0.1},\n",
       "  {'activation': 'tanh',\n",
       "   'hidden_layer_sizes': 25,\n",
       "   'learning_rate_init': 0.001},\n",
       "  {'activation': 'tanh', 'hidden_layer_sizes': 25, 'learning_rate_init': 0.01},\n",
       "  {'activation': 'tanh', 'hidden_layer_sizes': 25, 'learning_rate_init': 0.1},\n",
       "  {'activation': 'relu',\n",
       "   'hidden_layer_sizes': 101,\n",
       "   'learning_rate_init': 0.001},\n",
       "  {'activation': 'relu',\n",
       "   'hidden_layer_sizes': 101,\n",
       "   'learning_rate_init': 0.01},\n",
       "  {'activation': 'relu', 'hidden_layer_sizes': 101, 'learning_rate_init': 0.1},\n",
       "  {'activation': 'relu',\n",
       "   'hidden_layer_sizes': 50,\n",
       "   'learning_rate_init': 0.001},\n",
       "  {'activation': 'relu', 'hidden_layer_sizes': 50, 'learning_rate_init': 0.01},\n",
       "  {'activation': 'relu', 'hidden_layer_sizes': 50, 'learning_rate_init': 0.1},\n",
       "  {'activation': 'relu',\n",
       "   'hidden_layer_sizes': 25,\n",
       "   'learning_rate_init': 0.001},\n",
       "  {'activation': 'relu', 'hidden_layer_sizes': 25, 'learning_rate_init': 0.01},\n",
       "  {'activation': 'relu', 'hidden_layer_sizes': 25, 'learning_rate_init': 0.1}],\n",
       " 'split0_test_score': array([0.42372881, 0.42372881, 0.30979284, 0.42749529, 0.42184557,\n",
       "        0.33333333, 0.42184557, 0.42372881, 0.37570621, 0.45574388,\n",
       "        0.45009416, 0.40489642, 0.4472693 , 0.38983051, 0.40207156,\n",
       "        0.43220339, 0.36629002, 0.36723164, 0.44256121, 0.42749529,\n",
       "        0.35028249, 0.38983051, 0.36629002, 0.326742  , 0.38229755,\n",
       "        0.34274953, 0.32956685, 0.62429379, 0.62806026, 0.52919021,\n",
       "        0.53107345, 0.53672316, 0.46704331, 0.45574388, 0.43502825,\n",
       "        0.42937853]),\n",
       " 'split1_test_score': array([0.43543827, 0.44580584, 0.31479736, 0.43355325, 0.43072573,\n",
       "        0.36380773, 0.43732328, 0.4260132 , 0.36852026, 0.44863336,\n",
       "        0.45428841, 0.43732328, 0.44392083, 0.40150801, 0.38831291,\n",
       "        0.4269557 , 0.35626767, 0.39396795, 0.40999057, 0.40339303,\n",
       "        0.35532516, 0.4128181 , 0.38548539, 0.32987747, 0.40810556,\n",
       "        0.34872762, 0.34590009, 0.61828464, 0.59566447, 0.53440151,\n",
       "        0.52874647, 0.54571159, 0.49575872, 0.45146089, 0.42507069,\n",
       "        0.42130066]),\n",
       " 'split2_test_score': array([0.41470311, 0.41753063, 0.31102733, 0.41847314, 0.42224317,\n",
       "        0.29500471, 0.41658812, 0.4137606 , 0.35532516, 0.4401508 ,\n",
       "        0.4533459 , 0.40527804, 0.43449576, 0.38925542, 0.38171536,\n",
       "        0.44486334, 0.36663525, 0.35249764, 0.4005655 , 0.41941565,\n",
       "        0.32893497, 0.39208294, 0.37229029, 0.30914232, 0.37888784,\n",
       "        0.31291235, 0.34213007, 0.61828464, 0.61734213, 0.533459  ,\n",
       "        0.50801131, 0.53440151, 0.50424128, 0.46182846, 0.42978322,\n",
       "        0.42035815]),\n",
       " 'mean_test_score': array([0.4246234 , 0.42902176, 0.31187251, 0.42650723, 0.42493816,\n",
       "        0.33071526, 0.42525233, 0.42116754, 0.36651721, 0.44817602,\n",
       "        0.45257616, 0.41583258, 0.4418953 , 0.39353131, 0.39069995,\n",
       "        0.43467414, 0.36306431, 0.37123241, 0.41770576, 0.41676799,\n",
       "        0.34484754, 0.39824385, 0.37468857, 0.3219206 , 0.38976365,\n",
       "        0.3347965 , 0.33919901, 0.62028769, 0.61368895, 0.53235024,\n",
       "        0.52261041, 0.53894542, 0.48901444, 0.45634441, 0.42996072,\n",
       "        0.42367911]),\n",
       " 'std_test_score': array([0.00848869, 0.01213489, 0.0021287 , 0.00619595, 0.00409565,\n",
       "        0.02814965, 0.00880118, 0.00531987, 0.00844022, 0.00637406,\n",
       "        0.00179672, 0.01519702, 0.00540789, 0.00564526, 0.00848006,\n",
       "        0.00751662, 0.00480802, 0.01716491, 0.01799172, 0.01001623,\n",
       "        0.01143867, 0.01034649, 0.00801787, 0.00912583, 0.01304418,\n",
       "        0.0156657 , 0.00698269, 0.00283274, 0.01347544, 0.00226737,\n",
       "        0.01036674, 0.00487739, 0.01591721, 0.00425379, 0.00406709,\n",
       "        0.00404842]),\n",
       " 'rank_test_score': array([17, 13, 36, 14, 16, 34, 15, 19, 29,  9,  8, 22, 10, 24, 25, 11, 30,\n",
       "        28, 20, 21, 31, 23, 27, 35, 26, 33, 32,  1,  2,  4,  5,  3,  6,  7,\n",
       "        12, 18])}"
      ]
     },
     "execution_count": 12,
     "metadata": {},
     "output_type": "execute_result"
    }
   ],
   "source": [
    "# Если понадобится сохранить лучший вариант, то он находится в атрибуте best_estimator_\n",
    "# Все данные по кросс валидации находятся в атрибуте cv_results_\n",
    "\n",
    "grid_search.best_estimator_\n",
    "grid_search.cv_results_"
   ]
  },
  {
   "cell_type": "markdown",
   "metadata": {
    "id": "EthloiEIJi3v"
   },
   "source": [
    "**Что такое эпоха (epoch) при обучении модели?**\n",
    "\n",
    "Ваш ответ: этап обучения нейросети, один этап прохода по данным\n",
    "\n",
    "**Сколько эпох задается изначально при создании MLPClassifier?**\n",
    "\n",
    "Ваш ответ: 200\n",
    "\n",
    "**Для чего требуется регуляризация L2 или L1?**\n",
    "\n",
    "Ваш ответ: для предотвращения переобучения модели (L1 - только важные признаки, L2 уменьшает значение огромных весов)\n",
    "\n",
    "**Сколько параметров в вашей лучшей модели?**\n",
    "\n",
    "Ваш ответ: 3"
   ]
  }
 ],
 "metadata": {
  "colab": {
   "provenance": []
  },
  "kernelspec": {
   "display_name": "Python 3 (ipykernel)",
   "language": "python",
   "name": "python3"
  },
  "language_info": {
   "codemirror_mode": {
    "name": "ipython",
    "version": 3
   },
   "file_extension": ".py",
   "mimetype": "text/x-python",
   "name": "python",
   "nbconvert_exporter": "python",
   "pygments_lexer": "ipython3",
   "version": "3.12.0"
  }
 },
 "nbformat": 4,
 "nbformat_minor": 4
}
